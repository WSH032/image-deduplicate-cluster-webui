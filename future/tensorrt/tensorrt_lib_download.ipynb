{
 "cells": [
  {
   "cell_type": "code",
   "execution_count": 19,
   "metadata": {},
   "outputs": [
    {
     "name": "stderr",
     "output_type": "stream",
     "text": [
      "e:\\GitHub\\image-deduplicate-cluster-webui\\venv\\lib\\site-packages\\tqdm\\auto.py:21: TqdmWarning: IProgress not found. Please update jupyter and ipywidgets. See https://ipywidgets.readthedocs.io/en/stable/user_install.html\n",
      "  from .autonotebook import tqdm as notebook_tqdm\n"
     ]
    }
   ],
   "source": [
    "import requests\n",
    "import os\n",
    "from tqdm import tqdm\n"
   ]
  },
  {
   "cell_type": "code",
   "execution_count": 34,
   "metadata": {},
   "outputs": [
    {
     "name": "stdout",
     "output_type": "stream",
     "text": [
      "e:\\GitHub\\image-deduplicate-cluster-webui\\venv\\lib\\site-packages\\torch\\__init__.py\n"
     ]
    }
   ],
   "source": [
    "import torch\n",
    "print(torch.__file__)"
   ]
  },
  {
   "cell_type": "code",
   "execution_count": 27,
   "metadata": {},
   "outputs": [
    {
     "name": "stdout",
     "output_type": "stream",
     "text": [
      "md5: 91c4ad915789bdcde6e0d041ab7197ff\n",
      "md5_server: None\n"
     ]
    }
   ],
   "source": [
    "tensorrt_download_url = \"https://developer.nvidia.com/downloads/compute/machine-learning/tensorrt/secure/8.6.1/zip/TensorRT-8.6.1.6.Windows10.x86_64.cuda-11.8.zip\"\n",
    "download_dir = \".cache\"\n",
    "filename = os.path.basename(tensorrt_download_url)\n",
    "file_path = os.path.join(download_dir, filename)\n",
    "chunk_size = 8192\n",
    "\n",
    "if not os.path.exists(download_dir):\n",
    "    os.makedirs(download_dir, exist_ok=True)\n",
    "\n",
    "# 检查本地文件是否存在\n",
    "try:\n",
    "    file_size = os.path.getsize(file_path)\n",
    "except FileNotFoundError:\n",
    "    file_size = 0\n",
    "\n",
    "# 发送 HTTP 请求\n",
    "headers = {'Range': f'bytes={file_size}-'}\n",
    "\n",
    "with requests.get(tensorrt_download_url, headers=headers, stream=True) as r:\n",
    "    r.raise_for_status()\n",
    "    # 显示文件大小,mb为单位\n",
    "    total_size = int(r.headers.get('Content-Length', 0))\n",
    "    print(\"文件大小\",total_size/1024/1024,\"MB\")\n",
    "    # 写入文件\n",
    "    with open(file_path, 'ab') as f:\n",
    "        with tqdm.wrapattr(f, \"write\", miniters=1, total=total_size, desc=filename) as fout:\n",
    "            for chunk in r.iter_content(chunk_size=chunk_size):\n",
    "                fout.write(chunk)\n",
    "                fout.flush()\n",
    "    # 进行md5校验\n",
    "    import hashlib\n",
    "    md5 = hashlib.md5()\n",
    "    with open(file_path, 'rb') as f:\n",
    "        while True:\n",
    "            data = f.read(1024)\n",
    "            if not data:\n",
    "                break\n",
    "            md5.update(data)\n",
    "    print(\"md5:\",md5.hexdigest())\n",
    "# 解压文件\n",
    "import zipfile\n",
    "with zipfile.ZipFile(file_path, 'r') as zip_ref:\n",
    "    zip_ref.extractall(download_dir, members=[f for f in zip_ref.namelist() if f.startswith(('TensorRT-8.6.1.6/lib/', 'TensorRT-8.6.1.6/python/'))])\n",
    "\n",
    "                                      \n"
   ]
  }
 ],
 "metadata": {
  "kernelspec": {
   "display_name": "venv",
   "language": "python",
   "name": "python3"
  },
  "language_info": {
   "codemirror_mode": {
    "name": "ipython",
    "version": 3
   },
   "file_extension": ".py",
   "mimetype": "text/x-python",
   "name": "python",
   "nbconvert_exporter": "python",
   "pygments_lexer": "ipython3",
   "version": "3.10.8"
  },
  "orig_nbformat": 4
 },
 "nbformat": 4,
 "nbformat_minor": 2
}
