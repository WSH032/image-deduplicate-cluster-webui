{
 "cells": [
  {
   "cell_type": "code",
   "execution_count": null,
   "metadata": {},
   "outputs": [],
   "source": [
    "import torch\n",
    "import numpy as np\n",
    "import onnx\n",
    "import onnxruntime as rt\n",
    "from typing import List, Tuple, Union, Dict"
   ]
  },
  {
   "cell_type": "code",
   "execution_count": null,
   "metadata": {},
   "outputs": [],
   "source": [
    "EP_list = ['CUDAExecutionProvider', 'CPUExecutionProvider']\n",
    "\n",
    "model_path = r\"wd14_tagger_model\\model.onnx\"\n",
    "\n",
    "# initialize the model.onnx\n",
    "sess = rt.InferenceSession(model_path, providers=EP_list)\n",
    "\n",
    "# get the outputs metadata as a list of :class:`onnxruntime.NodeArg`\n",
    "output_name = sess.get_outputs()[0].name\n",
    "\n",
    "# get the inputs metadata as a list of :class:`onnxruntime.NodeArg`\n",
    "input_name = sess.get_inputs()[0].name\n",
    "\n",
    "input = np.random.rand(1, 448, 448, 3).astype(np.float32)\n",
    "\n",
    "# inference run using image_data as the input to the model \n",
    "detections = sess.run(None, {input_name:input })[0]\n"
   ]
  },
  {
   "cell_type": "code",
   "execution_count": null,
   "metadata": {},
   "outputs": [],
   "source": [
    "model_path = r\"wd14_tagger_model\\model.onnx\"\n",
    "model = onnx.load(model_path)\n",
    "for node in model.graph.node:\n",
    "        print(node.name)"
   ]
  },
  {
   "cell_type": "code",
   "execution_count": null,
   "metadata": {},
   "outputs": [],
   "source": [
    "# 添加更多层输出\n",
    "for node in model.graph.node[-1:-5:-1]:\n",
    "    for output in node.output:\n",
    "        model.graph.output.extend([onnx.ValueInfoProto(name=output)])"
   ]
  },
  {
   "cell_type": "code",
   "execution_count": null,
   "metadata": {},
   "outputs": [],
   "source": [
    "# 载入模型\n",
    "providers = ['CUDAExecutionProvider']\n",
    "ort_session = rt.InferenceSession(model.SerializeToString(), providers=providers)\n",
    "outputs = [x.name for x in ort_session.get_outputs()]"
   ]
  },
  {
   "cell_type": "code",
   "execution_count": null,
   "metadata": {},
   "outputs": [],
   "source": [
    "# 获取输出\n",
    "input_arr = np.random.randint(0, 225, size=(1, 448, 448, 3)).astype(np.float32)\n",
    "ort_inputs = {ort_session.get_inputs()[0].name: input_arr,}\n",
    "ort_outs = ort_session.run(outputs, ort_inputs)\n",
    "\n",
    "print(ort_outs)\n",
    "print(ort_outs[0].shape)"
   ]
  },
  {
   "cell_type": "code",
   "execution_count": null,
   "metadata": {},
   "outputs": [],
   "source": [
    "# 推理输入输出参数维度\n",
    "\n",
    "value_info_protos = []\n",
    "shape_info = onnx.shape_inference.infer_shapes(model)\n",
    "for idx, node in enumerate(shape_info.graph.value_info):\n",
    "    value_info_protos.append(node)\n",
    "\n",
    "# 检查模型是否正确\n",
    "onnx.checker.check_model(model)\n"
   ]
  },
  {
   "cell_type": "code",
   "execution_count": null,
   "metadata": {},
   "outputs": [],
   "source": [
    "import torch\n",
    "import numpy as np\n",
    "a = torch.tensor( np.random.randint(0, 225, size=(500, 448, 448, 3)).astype(np.float32) ).to(\"cuda\")\n",
    "a.device"
   ]
  },
  {
   "cell_type": "code",
   "execution_count": null,
   "metadata": {},
   "outputs": [],
   "source": [
    "def _gc():\n",
    "    import torch\n",
    "    import gc\n",
    "    import time\n",
    "    time.sleep(1)\n",
    "    torch.cuda.empty_cache()\n",
    "    gc.collect()\n",
    "\n",
    "# del a\n",
    "\n",
    "_gc()"
   ]
  },
  {
   "cell_type": "code",
   "execution_count": null,
   "metadata": {},
   "outputs": [],
   "source": [
    "# 矩阵加维度\n",
    "\n",
    "def reshape_array_to_2d(arr_list: List[np.ndarray]) -> List[np.ndarray]:\n",
    "    \"\"\"\n",
    "    输入一个List[np.ndarry]，逐个检查其中元素，如果某个数据元素是一维的，就在其前面加一个维度，使其变成二维的\n",
    "    注意，会直接修改传入的list中的数组本身\n",
    "    \"\"\"\n",
    "    for i, arr in enumerate(arr_list):\n",
    "        if isinstance(arr, np.ndarray) and arr.ndim == 1:\n",
    "            arr.resize((1, arr.shape[0]))\n",
    "    return arr_list\n",
    "\n",
    "\n"
   ]
  }
 ],
 "metadata": {
  "kernelspec": {
   "display_name": "venv",
   "language": "python",
   "name": "python3"
  },
  "language_info": {
   "codemirror_mode": {
    "name": "ipython",
    "version": 3
   },
   "file_extension": ".py",
   "mimetype": "text/x-python",
   "name": "python",
   "nbconvert_exporter": "python",
   "pygments_lexer": "ipython3",
   "version": "3.10.8"
  },
  "orig_nbformat": 4
 },
 "nbformat": 4,
 "nbformat_minor": 2
}
